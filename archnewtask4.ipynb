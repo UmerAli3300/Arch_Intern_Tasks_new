{
 "cells": [
  {
   "cell_type": "code",
   "execution_count": 1,
   "id": "5ef4cd4a-3e1e-4fe1-bcc7-1707f952f241",
   "metadata": {},
   "outputs": [],
   "source": [
    "# =====================================================================\n",
    "#### Task 4: Movie Rating Prediction\n",
    "# =====================================================================\n",
    "### Objective:\n",
    "#   - Predict how a user will rate a movie they haven't seen.\n",
    "#   - Use collaborative filtering based on user similarity.\n",
    "#   - Preprocess data, build model, and evaluate performance with RMSE.\n",
    "### Tools Used:\n",
    "#   - Python, pandas, numpy, matplotlib\n",
    "#   - Scikit-learn: cosine_similarity, train_test_split, mean_squared_error"
   ]
  },
  {
   "cell_type": "code",
   "execution_count": 2,
   "id": "02402b5a-3c4d-4165-bdcc-6e3c10c1afb1",
   "metadata": {},
   "outputs": [],
   "source": [
    "# Data handling and manipulation\n",
    "import pandas as pd\n",
    "import numpy as np\n",
    "\n",
    "# Data plotting and visualization\n",
    "import matplotlib.pyplot as plt\n",
    "\n",
    "# Compute similarity between users\n",
    "from sklearn.metrics.pairwise import cosine_similarity\n",
    "\n",
    "# Split data and evaluate performance\n",
    "from sklearn.model_selection import train_test_split\n",
    "from sklearn.metrics import mean_squared_error"
   ]
  },
  {
   "cell_type": "code",
   "execution_count": 4,
   "id": "1600fc02-befa-49ad-91fe-92c00d1f0bc1",
   "metadata": {},
   "outputs": [
    {
     "data": {
      "text/html": [
       "<div>\n",
       "<style scoped>\n",
       "    .dataframe tbody tr th:only-of-type {\n",
       "        vertical-align: middle;\n",
       "    }\n",
       "\n",
       "    .dataframe tbody tr th {\n",
       "        vertical-align: top;\n",
       "    }\n",
       "\n",
       "    .dataframe thead th {\n",
       "        text-align: right;\n",
       "    }\n",
       "</style>\n",
       "<table border=\"1\" class=\"dataframe\">\n",
       "  <thead>\n",
       "    <tr style=\"text-align: right;\">\n",
       "      <th></th>\n",
       "      <th>user_id</th>\n",
       "      <th>movie_id</th>\n",
       "      <th>rating</th>\n",
       "      <th>timestamp</th>\n",
       "    </tr>\n",
       "  </thead>\n",
       "  <tbody>\n",
       "    <tr>\n",
       "      <th>0</th>\n",
       "      <td>196</td>\n",
       "      <td>242</td>\n",
       "      <td>3</td>\n",
       "      <td>881250949</td>\n",
       "    </tr>\n",
       "    <tr>\n",
       "      <th>1</th>\n",
       "      <td>186</td>\n",
       "      <td>302</td>\n",
       "      <td>3</td>\n",
       "      <td>891717742</td>\n",
       "    </tr>\n",
       "    <tr>\n",
       "      <th>2</th>\n",
       "      <td>22</td>\n",
       "      <td>377</td>\n",
       "      <td>1</td>\n",
       "      <td>878887116</td>\n",
       "    </tr>\n",
       "    <tr>\n",
       "      <th>3</th>\n",
       "      <td>244</td>\n",
       "      <td>51</td>\n",
       "      <td>2</td>\n",
       "      <td>880606923</td>\n",
       "    </tr>\n",
       "    <tr>\n",
       "      <th>4</th>\n",
       "      <td>166</td>\n",
       "      <td>346</td>\n",
       "      <td>1</td>\n",
       "      <td>886397596</td>\n",
       "    </tr>\n",
       "  </tbody>\n",
       "</table>\n",
       "</div>"
      ],
      "text/plain": [
       "   user_id  movie_id  rating  timestamp\n",
       "0      196       242       3  881250949\n",
       "1      186       302       3  891717742\n",
       "2       22       377       1  878887116\n",
       "3      244        51       2  880606923\n",
       "4      166       346       1  886397596"
      ]
     },
     "execution_count": 4,
     "metadata": {},
     "output_type": "execute_result"
    }
   ],
   "source": [
    "# Load ratings data\n",
    "columns = ['user_id', 'movie_id', 'rating', 'timestamp']\n",
    "df = pd.read_csv('https://files.grouplens.org/datasets/movielens/ml-100k/u.data', sep='\\t', names=columns)\n",
    "\n",
    "# Show first 5 rows\n",
    "df.head()"
   ]
  },
  {
   "cell_type": "code",
   "execution_count": 5,
   "id": "10eba396-b6c3-4ae0-8ae0-409f98b1bb31",
   "metadata": {},
   "outputs": [
    {
     "data": {
      "text/plain": [
       "(100000, 4)"
      ]
     },
     "execution_count": 5,
     "metadata": {},
     "output_type": "execute_result"
    }
   ],
   "source": [
    "df.shape"
   ]
  },
  {
   "cell_type": "code",
   "execution_count": 6,
   "id": "7c10a3a4-a86c-42fb-bcb0-803be4d343ed",
   "metadata": {},
   "outputs": [
    {
     "data": {
      "text/plain": [
       "user_id      0\n",
       "movie_id     0\n",
       "rating       0\n",
       "timestamp    0\n",
       "dtype: int64"
      ]
     },
     "execution_count": 6,
     "metadata": {},
     "output_type": "execute_result"
    }
   ],
   "source": [
    "df.isnull().sum()"
   ]
  },
  {
   "cell_type": "code",
   "execution_count": 7,
   "id": "fc6db0fc-47ef-4ec4-9ca2-179caf70ecc7",
   "metadata": {},
   "outputs": [
    {
     "data": {
      "text/plain": [
       "(943, 1682)"
      ]
     },
     "execution_count": 7,
     "metadata": {},
     "output_type": "execute_result"
    }
   ],
   "source": [
    "# Pivot table: users as rows, movies as columns\n",
    "rating_matrix = df.pivot_table(index='user_id', columns='movie_id', values='rating')\n",
    "\n",
    "# Show matrix shape\n",
    "rating_matrix.shape"
   ]
  },
  {
   "cell_type": "code",
   "execution_count": 8,
   "id": "2f5898cb-e84d-49b1-9a89-14890524ac54",
   "metadata": {},
   "outputs": [
    {
     "data": {
      "text/html": [
       "<div>\n",
       "<style scoped>\n",
       "    .dataframe tbody tr th:only-of-type {\n",
       "        vertical-align: middle;\n",
       "    }\n",
       "\n",
       "    .dataframe tbody tr th {\n",
       "        vertical-align: top;\n",
       "    }\n",
       "\n",
       "    .dataframe thead th {\n",
       "        text-align: right;\n",
       "    }\n",
       "</style>\n",
       "<table border=\"1\" class=\"dataframe\">\n",
       "  <thead>\n",
       "    <tr style=\"text-align: right;\">\n",
       "      <th>movie_id</th>\n",
       "      <th>1</th>\n",
       "      <th>2</th>\n",
       "      <th>3</th>\n",
       "      <th>4</th>\n",
       "      <th>5</th>\n",
       "      <th>6</th>\n",
       "      <th>7</th>\n",
       "      <th>8</th>\n",
       "      <th>9</th>\n",
       "      <th>10</th>\n",
       "      <th>...</th>\n",
       "      <th>1673</th>\n",
       "      <th>1674</th>\n",
       "      <th>1675</th>\n",
       "      <th>1676</th>\n",
       "      <th>1677</th>\n",
       "      <th>1678</th>\n",
       "      <th>1679</th>\n",
       "      <th>1680</th>\n",
       "      <th>1681</th>\n",
       "      <th>1682</th>\n",
       "    </tr>\n",
       "    <tr>\n",
       "      <th>user_id</th>\n",
       "      <th></th>\n",
       "      <th></th>\n",
       "      <th></th>\n",
       "      <th></th>\n",
       "      <th></th>\n",
       "      <th></th>\n",
       "      <th></th>\n",
       "      <th></th>\n",
       "      <th></th>\n",
       "      <th></th>\n",
       "      <th></th>\n",
       "      <th></th>\n",
       "      <th></th>\n",
       "      <th></th>\n",
       "      <th></th>\n",
       "      <th></th>\n",
       "      <th></th>\n",
       "      <th></th>\n",
       "      <th></th>\n",
       "      <th></th>\n",
       "      <th></th>\n",
       "    </tr>\n",
       "  </thead>\n",
       "  <tbody>\n",
       "    <tr>\n",
       "      <th>1</th>\n",
       "      <td>5.0</td>\n",
       "      <td>3.0</td>\n",
       "      <td>4.0</td>\n",
       "      <td>3.0</td>\n",
       "      <td>3.0</td>\n",
       "      <td>5.0</td>\n",
       "      <td>4.0</td>\n",
       "      <td>1.0</td>\n",
       "      <td>5.0</td>\n",
       "      <td>3.0</td>\n",
       "      <td>...</td>\n",
       "      <td>0.0</td>\n",
       "      <td>0.0</td>\n",
       "      <td>0.0</td>\n",
       "      <td>0.0</td>\n",
       "      <td>0.0</td>\n",
       "      <td>0.0</td>\n",
       "      <td>0.0</td>\n",
       "      <td>0.0</td>\n",
       "      <td>0.0</td>\n",
       "      <td>0.0</td>\n",
       "    </tr>\n",
       "    <tr>\n",
       "      <th>2</th>\n",
       "      <td>4.0</td>\n",
       "      <td>0.0</td>\n",
       "      <td>0.0</td>\n",
       "      <td>0.0</td>\n",
       "      <td>0.0</td>\n",
       "      <td>0.0</td>\n",
       "      <td>0.0</td>\n",
       "      <td>0.0</td>\n",
       "      <td>0.0</td>\n",
       "      <td>2.0</td>\n",
       "      <td>...</td>\n",
       "      <td>0.0</td>\n",
       "      <td>0.0</td>\n",
       "      <td>0.0</td>\n",
       "      <td>0.0</td>\n",
       "      <td>0.0</td>\n",
       "      <td>0.0</td>\n",
       "      <td>0.0</td>\n",
       "      <td>0.0</td>\n",
       "      <td>0.0</td>\n",
       "      <td>0.0</td>\n",
       "    </tr>\n",
       "    <tr>\n",
       "      <th>3</th>\n",
       "      <td>0.0</td>\n",
       "      <td>0.0</td>\n",
       "      <td>0.0</td>\n",
       "      <td>0.0</td>\n",
       "      <td>0.0</td>\n",
       "      <td>0.0</td>\n",
       "      <td>0.0</td>\n",
       "      <td>0.0</td>\n",
       "      <td>0.0</td>\n",
       "      <td>0.0</td>\n",
       "      <td>...</td>\n",
       "      <td>0.0</td>\n",
       "      <td>0.0</td>\n",
       "      <td>0.0</td>\n",
       "      <td>0.0</td>\n",
       "      <td>0.0</td>\n",
       "      <td>0.0</td>\n",
       "      <td>0.0</td>\n",
       "      <td>0.0</td>\n",
       "      <td>0.0</td>\n",
       "      <td>0.0</td>\n",
       "    </tr>\n",
       "  </tbody>\n",
       "</table>\n",
       "<p>3 rows × 1682 columns</p>\n",
       "</div>"
      ],
      "text/plain": [
       "movie_id  1     2     3     4     5     6     7     8     9     10    ...  \\\n",
       "user_id                                                               ...   \n",
       "1          5.0   3.0   4.0   3.0   3.0   5.0   4.0   1.0   5.0   3.0  ...   \n",
       "2          4.0   0.0   0.0   0.0   0.0   0.0   0.0   0.0   0.0   2.0  ...   \n",
       "3          0.0   0.0   0.0   0.0   0.0   0.0   0.0   0.0   0.0   0.0  ...   \n",
       "\n",
       "movie_id  1673  1674  1675  1676  1677  1678  1679  1680  1681  1682  \n",
       "user_id                                                               \n",
       "1          0.0   0.0   0.0   0.0   0.0   0.0   0.0   0.0   0.0   0.0  \n",
       "2          0.0   0.0   0.0   0.0   0.0   0.0   0.0   0.0   0.0   0.0  \n",
       "3          0.0   0.0   0.0   0.0   0.0   0.0   0.0   0.0   0.0   0.0  \n",
       "\n",
       "[3 rows x 1682 columns]"
      ]
     },
     "execution_count": 8,
     "metadata": {},
     "output_type": "execute_result"
    }
   ],
   "source": [
    "# Replace NaN with 0 temporarily\n",
    "rating_matrix_filled = rating_matrix.fillna(0)\n",
    "\n",
    "# Show sample of filled matrix\n",
    "rating_matrix_filled.head(3)"
   ]
  },
  {
   "cell_type": "code",
   "execution_count": 9,
   "id": "e5e0bf5f-445f-4058-89b5-b3b1f695040c",
   "metadata": {},
   "outputs": [
    {
     "data": {
      "text/plain": [
       "(943, 943)"
      ]
     },
     "execution_count": 9,
     "metadata": {},
     "output_type": "execute_result"
    }
   ],
   "source": [
    "# Calculate cosine similarity between all users\n",
    "user_similarity = cosine_similarity(rating_matrix_filled)\n",
    "\n",
    "# Convert to DataFrame for readability\n",
    "user_similarity_df = pd.DataFrame(user_similarity, index=rating_matrix.index, columns=rating_matrix.index)\n",
    "\n",
    "# Show similarity matrix shape\n",
    "user_similarity_df.shape"
   ]
  },
  {
   "cell_type": "code",
   "execution_count": 10,
   "id": "a1d2454c-97fe-4f06-b830-83ab20c1e910",
   "metadata": {},
   "outputs": [],
   "source": [
    "# Predict rating using top-k similar users\n",
    "def predict_rating(user_id, movie_id, rating_matrix, similarity_matrix, k=5):\n",
    "    # Skip if movie not in matrix\n",
    "    if movie_id not in rating_matrix.columns:\n",
    "        return np.nan\n",
    "\n",
    "    # Get users who rated this movie\n",
    "    movie_ratings = rating_matrix[movie_id]\n",
    "    rated_users = movie_ratings.dropna().index\n",
    "\n",
    "    # Get similarity scores\n",
    "    sim_scores = similarity_matrix.loc[user_id, rated_users]\n",
    "\n",
    "    # Get top-k similar users (exclude self)\n",
    "    top_k_users = sim_scores.nlargest(k + 1).index[1:]\n",
    "\n",
    "    # Return mean if no similar users\n",
    "    if len(top_k_users) == 0:\n",
    "        return movie_ratings.mean()\n",
    "\n",
    "    # Weighted average prediction\n",
    "    sim_weights = sim_scores.loc[top_k_users]\n",
    "    ratings_from_similar = movie_ratings.loc[top_k_users]\n",
    "\n",
    "    predicted = np.dot(sim_weights, ratings_from_similar) / sim_weights.sum()\n",
    "    return predicted"
   ]
  },
  {
   "cell_type": "code",
   "execution_count": 11,
   "id": "251075fe-df32-40eb-8272-66bfd0264cb4",
   "metadata": {},
   "outputs": [
    {
     "name": "stdout",
     "output_type": "stream",
     "text": [
      "Actual rating: 3.0\n",
      "Predicted rating: 3.2\n"
     ]
    }
   ],
   "source": [
    "# Pick user 1 and movie 2\n",
    "sample_user = 1\n",
    "sample_movie = 2\n",
    "\n",
    "# Get actual rating (if exists)\n",
    "actual_rating = rating_matrix.loc[sample_user, sample_movie]\n",
    "print(\"Actual rating:\", actual_rating)\n",
    "\n",
    "# Get predicted rating\n",
    "predicted_rating = predict_rating(sample_user, sample_movie, rating_matrix, user_similarity_df, k=5)\n",
    "print(\"Predicted rating:\", round(predicted_rating, 2))"
   ]
  },
  {
   "cell_type": "code",
   "execution_count": 12,
   "id": "51fefa46-8e45-42ad-bf56-7698ec50c91a",
   "metadata": {},
   "outputs": [
    {
     "name": "stdout",
     "output_type": "stream",
     "text": [
      "Train size: 80000\n",
      "Test size: 20000\n"
     ]
    }
   ],
   "source": [
    "# Create dataset of known ratings\n",
    "known_ratings = rating_matrix.stack().reset_index()\n",
    "known_ratings.columns = ['user_id', 'movie_id', 'rating']\n",
    "\n",
    "# Split into train (80%) and test (20%)\n",
    "train, test = train_test_split(known_ratings, test_size=0.2, random_state=42)\n",
    "\n",
    "# Show sizes\n",
    "print(\"Train size:\", len(train))\n",
    "print(\"Test size:\", len(test))"
   ]
  },
  {
   "cell_type": "code",
   "execution_count": 13,
   "id": "7fa213f6-806f-437b-b810-1ad87cb02ab8",
   "metadata": {},
   "outputs": [
    {
     "data": {
      "text/html": [
       "<div>\n",
       "<style scoped>\n",
       "    .dataframe tbody tr th:only-of-type {\n",
       "        vertical-align: middle;\n",
       "    }\n",
       "\n",
       "    .dataframe tbody tr th {\n",
       "        vertical-align: top;\n",
       "    }\n",
       "\n",
       "    .dataframe thead th {\n",
       "        text-align: right;\n",
       "    }\n",
       "</style>\n",
       "<table border=\"1\" class=\"dataframe\">\n",
       "  <thead>\n",
       "    <tr style=\"text-align: right;\">\n",
       "      <th></th>\n",
       "      <th>user_id</th>\n",
       "      <th>movie_id</th>\n",
       "      <th>rating</th>\n",
       "      <th>predicted</th>\n",
       "    </tr>\n",
       "  </thead>\n",
       "  <tbody>\n",
       "    <tr>\n",
       "      <th>75721</th>\n",
       "      <td>693</td>\n",
       "      <td>382</td>\n",
       "      <td>4.0</td>\n",
       "      <td>3.189542</td>\n",
       "    </tr>\n",
       "    <tr>\n",
       "      <th>80184</th>\n",
       "      <td>747</td>\n",
       "      <td>111</td>\n",
       "      <td>4.0</td>\n",
       "      <td>3.200499</td>\n",
       "    </tr>\n",
       "    <tr>\n",
       "      <th>19864</th>\n",
       "      <td>201</td>\n",
       "      <td>212</td>\n",
       "      <td>4.0</td>\n",
       "      <td>3.000962</td>\n",
       "    </tr>\n",
       "    <tr>\n",
       "      <th>76699</th>\n",
       "      <td>705</td>\n",
       "      <td>427</td>\n",
       "      <td>2.0</td>\n",
       "      <td>4.422423</td>\n",
       "    </tr>\n",
       "    <tr>\n",
       "      <th>92991</th>\n",
       "      <td>880</td>\n",
       "      <td>849</td>\n",
       "      <td>3.0</td>\n",
       "      <td>2.809000</td>\n",
       "    </tr>\n",
       "    <tr>\n",
       "      <th>76434</th>\n",
       "      <td>701</td>\n",
       "      <td>289</td>\n",
       "      <td>4.0</td>\n",
       "      <td>3.332387</td>\n",
       "    </tr>\n",
       "    <tr>\n",
       "      <th>84004</th>\n",
       "      <td>787</td>\n",
       "      <td>750</td>\n",
       "      <td>5.0</td>\n",
       "      <td>3.535459</td>\n",
       "    </tr>\n",
       "    <tr>\n",
       "      <th>80917</th>\n",
       "      <td>751</td>\n",
       "      <td>181</td>\n",
       "      <td>5.0</td>\n",
       "      <td>3.992739</td>\n",
       "    </tr>\n",
       "    <tr>\n",
       "      <th>60767</th>\n",
       "      <td>537</td>\n",
       "      <td>762</td>\n",
       "      <td>3.0</td>\n",
       "      <td>3.019494</td>\n",
       "    </tr>\n",
       "    <tr>\n",
       "      <th>50074</th>\n",
       "      <td>447</td>\n",
       "      <td>1142</td>\n",
       "      <td>5.0</td>\n",
       "      <td>4.195789</td>\n",
       "    </tr>\n",
       "  </tbody>\n",
       "</table>\n",
       "</div>"
      ],
      "text/plain": [
       "       user_id  movie_id  rating  predicted\n",
       "75721      693       382     4.0   3.189542\n",
       "80184      747       111     4.0   3.200499\n",
       "19864      201       212     4.0   3.000962\n",
       "76699      705       427     2.0   4.422423\n",
       "92991      880       849     3.0   2.809000\n",
       "76434      701       289     4.0   3.332387\n",
       "84004      787       750     5.0   3.535459\n",
       "80917      751       181     5.0   3.992739\n",
       "60767      537       762     3.0   3.019494\n",
       "50074      447      1142     5.0   4.195789"
      ]
     },
     "execution_count": 13,
     "metadata": {},
     "output_type": "execute_result"
    }
   ],
   "source": [
    "# Apply prediction function to test set\n",
    "test['predicted'] = test.apply(\n",
    "    lambda row: predict_rating(\n",
    "        row['user_id'], row['movie_id'], rating_matrix, user_similarity_df, k=5\n",
    "    ), axis=1\n",
    ")\n",
    "\n",
    "# Keep only rows with valid predictions\n",
    "test_clean = test.dropna(subset=['predicted'])\n",
    "\n",
    "# Show first 10 predictions\n",
    "test_clean.head(10)"
   ]
  },
  {
   "cell_type": "code",
   "execution_count": 14,
   "id": "5aaf3824-064f-4625-b4f2-50e6360d1a7d",
   "metadata": {},
   "outputs": [
    {
     "name": "stdout",
     "output_type": "stream",
     "text": [
      "Model RMSE: 1.0414\n"
     ]
    }
   ],
   "source": [
    "# Compute Root Mean Squared Error\n",
    "rmse = np.sqrt(mean_squared_error(test_clean['rating'], test_clean['predicted']))\n",
    "\n",
    "# Show result\n",
    "print(\"Model RMSE:\", round(rmse, 4))"
   ]
  },
  {
   "cell_type": "code",
   "execution_count": 15,
   "id": "abc0b17b-0903-4477-80b1-1d87467ac094",
   "metadata": {},
   "outputs": [
    {
     "name": "stdout",
     "output_type": "stream",
     "text": [
      "\n",
      "Sample Predictions vs Actual:\n",
      "       user_id  movie_id  rating  predicted\n",
      "75721      693       382     4.0       3.19\n",
      "80184      747       111     4.0       3.20\n",
      "19864      201       212     4.0       3.00\n",
      "76699      705       427     2.0       4.42\n",
      "92991      880       849     3.0       2.81\n",
      "76434      701       289     4.0       3.33\n",
      "84004      787       750     5.0       3.54\n",
      "80917      751       181     5.0       3.99\n",
      "60767      537       762     3.0       3.02\n",
      "50074      447      1142     5.0       4.20\n"
     ]
    }
   ],
   "source": [
    "# Display comparison\n",
    "print(\"\\nSample Predictions vs Actual:\")\n",
    "print(test_clean[['user_id', 'movie_id', 'rating', 'predicted']].head(10).round(2))"
   ]
  },
  {
   "cell_type": "code",
   "execution_count": null,
   "id": "1a2df4a7-7104-46d5-a1df-c4382d5e751d",
   "metadata": {},
   "outputs": [],
   "source": []
  }
 ],
 "metadata": {
  "kernelspec": {
   "display_name": "Python 3.12 (venv)",
   "language": "python",
   "name": "venv"
  },
  "language_info": {
   "codemirror_mode": {
    "name": "ipython",
    "version": 3
   },
   "file_extension": ".py",
   "mimetype": "text/x-python",
   "name": "python",
   "nbconvert_exporter": "python",
   "pygments_lexer": "ipython3",
   "version": "3.12.3"
  }
 },
 "nbformat": 4,
 "nbformat_minor": 5
}
